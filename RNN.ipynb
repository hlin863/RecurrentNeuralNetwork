{
 "cells": [
  {
   "cell_type": "code",
   "execution_count": 1,
   "metadata": {},
   "outputs": [],
   "source": [
    "import tensorflow as tf"
   ]
  },
  {
   "cell_type": "code",
   "execution_count": 2,
   "metadata": {},
   "outputs": [],
   "source": [
    "from keras.datasets import imdb"
   ]
  },
  {
   "cell_type": "code",
   "execution_count": 3,
   "metadata": {},
   "outputs": [],
   "source": [
    "from keras import layers, models, losses, optimizers"
   ]
  },
  {
   "cell_type": "code",
   "execution_count": 4,
   "metadata": {},
   "outputs": [],
   "source": [
    "from keras.utils import pad_sequences"
   ]
  },
  {
   "cell_type": "code",
   "execution_count": 5,
   "metadata": {},
   "outputs": [],
   "source": [
    "vocab_size = 5000\n",
    "(X_train, y_train), (X_test, y_test) = imdb.load_data(num_words=vocab_size)"
   ]
  },
  {
   "cell_type": "code",
   "execution_count": 6,
   "metadata": {},
   "outputs": [],
   "source": [
    "reviewLengths = [len(x) for x in X_train]"
   ]
  },
  {
   "cell_type": "code",
   "execution_count": 7,
   "metadata": {},
   "outputs": [],
   "source": [
    "import matplotlib.pyplot as plt"
   ]
  },
  {
   "cell_type": "code",
   "execution_count": 8,
   "metadata": {},
   "outputs": [
    {
     "data": {
      "image/png": "[encoded data removed]",
      "text/plain": [
       "<Figure size 432x288 with 1 Axes>"
      ]
     },
     "metadata": {
      "needs_background": "light"
     },
     "output_type": "display_data"
    }
   ],
   "source": [
    "plt.hist(reviewLengths, bins=10)\n",
    "plt.show()"
   ]
  },
  {
   "cell_type": "code",
   "execution_count": 9,
   "metadata": {},
   "outputs": [],
   "source": [
    "max_length = 500  # This value should be chosen based on your data. \n",
    "                  # It looks like you intended 500 since you used input_length=500 in your Embedding layer.\n",
    "\n",
    "X_train = pad_sequences(X_train, maxlen=max_length)\n",
    "X_test = pad_sequences(X_test, maxlen=max_length)"
   ]
  },
  {
   "cell_type": "markdown",
   "metadata": {},
   "source": [
    "Build a LSTM network"
   ]
  },
  {
   "cell_type": "code",
   "execution_count": 10,
   "metadata": {},
   "outputs": [],
   "source": [
    "tf.random.set_seed(42)"
   ]
  },
  {
   "cell_type": "code",
   "execution_count": 11,
   "metadata": {},
   "outputs": [],
   "source": [
    "model = models.Sequential()"
   ]
  },
  {
   "cell_type": "code",
   "execution_count": 12,
   "metadata": {},
   "outputs": [],
   "source": [
    "embeddingSize = 32"
   ]
  },
  {
   "cell_type": "code",
   "execution_count": 13,
   "metadata": {},
   "outputs": [],
   "source": [
    "model.add(layers.Embedding(vocab_size, embeddingSize, input_length=500))"
   ]
  },
  {
   "cell_type": "code",
   "execution_count": 14,
   "metadata": {},
   "outputs": [],
   "source": [
    "model.add(layers.LSTM(50))"
   ]
  },
  {
   "cell_type": "code",
   "execution_count": 15,
   "metadata": {},
   "outputs": [],
   "source": [
    "model.add(layers.Dense(1, activation='sigmoid'))"
   ]
  },
  {
   "cell_type": "code",
   "execution_count": 16,
   "metadata": {},
   "outputs": [
    {
     "name": "stderr",
     "output_type": "stream",
     "text": [
      "c:\\Python310\\lib\\site-packages\\keras\\optimizers\\optimizer_v2\\rmsprop.py:140: UserWarning: The `lr` argument is deprecated, use `learning_rate` instead.\n",
      "  super().__init__(name, **kwargs)\n"
     ]
    }
   ],
   "source": [
    "model.compile(loss=losses.binary_crossentropy, optimizer=optimizers.RMSprop(lr=0.001), metrics=['accuracy'])"
   ]
  },
  {
   "cell_type": "code",
   "execution_count": 17,
   "metadata": {},
   "outputs": [
    {
     "name": "stdout",
     "output_type": "stream",
     "text": [
      "Epoch 1/10\n",
      "196/196 [==============================] - 91s 454ms/step - loss: 0.5129 - accuracy: 0.7609 - val_loss: 0.3363 - val_accuracy: 0.8653\n",
      "Epoch 2/10\n",
      "196/196 [==============================] - 100s 510ms/step - loss: 0.3188 - accuracy: 0.8712 - val_loss: 0.3956 - val_accuracy: 0.8432\n",
      "Epoch 3/10\n",
      "196/196 [==============================] - 100s 512ms/step - loss: 0.2699 - accuracy: 0.8939 - val_loss: 0.6331 - val_accuracy: 0.7808\n",
      "Epoch 4/10\n",
      "196/196 [==============================] - 110s 560ms/step - loss: 0.2491 - accuracy: 0.9054 - val_loss: 0.3360 - val_accuracy: 0.8553\n",
      "Epoch 5/10\n",
      "196/196 [==============================] - 106s 541ms/step - loss: 0.2293 - accuracy: 0.9128 - val_loss: 0.2997 - val_accuracy: 0.8817\n",
      "Epoch 6/10\n",
      "196/196 [==============================] - 107s 549ms/step - loss: 0.2163 - accuracy: 0.9185 - val_loss: 0.2972 - val_accuracy: 0.8802\n",
      "Epoch 7/10\n",
      "196/196 [==============================] - 113s 576ms/step - loss: 0.2033 - accuracy: 0.9254 - val_loss: 0.4304 - val_accuracy: 0.8491\n",
      "Epoch 8/10\n",
      "196/196 [==============================] - 103s 527ms/step - loss: 0.1973 - accuracy: 0.9272 - val_loss: 0.3091 - val_accuracy: 0.8714\n",
      "Epoch 9/10\n",
      "196/196 [==============================] - 119s 608ms/step - loss: 0.1859 - accuracy: 0.9324 - val_loss: 0.6974 - val_accuracy: 0.7888\n",
      "Epoch 10/10\n",
      "196/196 [==============================] - 100s 507ms/step - loss: 0.1798 - accuracy: 0.9344 - val_loss: 0.4074 - val_accuracy: 0.8676\n"
     ]
    },
    {
     "data": {
      "text/plain": [
       "<keras.callbacks.History at 0x2768002f250>"
      ]
     },
     "execution_count": 17,
     "metadata": {},
     "output_type": "execute_result"
    }
   ],
   "source": [
    "model.fit(X_train, y_train, epochs=10, batch_size=128, validation_data=(X_test, y_test))"
   ]
  },
  {
   "cell_type": "code",
   "execution_count": 18,
   "metadata": {},
   "outputs": [],
   "source": [
    "from keras.callbacks import Callback, ModelCheckpoint, EarlyStopping"
   ]
  },
  {
   "cell_type": "code",
   "execution_count": 19,
   "metadata": {},
   "outputs": [],
   "source": [
    "filePath = 'model.hdf5'"
   ]
  },
  {
   "cell_type": "code",
   "execution_count": 20,
   "metadata": {},
   "outputs": [],
   "source": [
    "checkpoint = ModelCheckpoint(filePath, monitor='loss', verbose=1, save_best_only=True, mode='min')"
   ]
  },
  {
   "cell_type": "code",
   "execution_count": 21,
   "metadata": {},
   "outputs": [],
   "source": [
    "earlyStop = EarlyStopping(monitor='loss', mode='min', verbose=1, patience=3)"
   ]
  },
  {
   "cell_type": "code",
   "execution_count": 22,
   "metadata": {},
   "outputs": [],
   "source": [
    "import numpy as np"
   ]
  },
  {
   "cell_type": "code",
   "execution_count": 23,
   "metadata": {},
   "outputs": [],
   "source": [
    "def generateText(model, genLength, nVocab, indexToChar):\n",
    "    index = np.random.randint(nVocab)\n",
    "    yChar = [indexToChar[index]]\n",
    "    x = np.zeros((1, genLength, nVocab))\n",
    "\n",
    "    for i in range(genLength):\n",
    "        x[0, i, :][index] = 1\n",
    "        pred = model.predict(x[:, :i+1, :])[0][-1]\n",
    "        index = np.argmax(pred)\n",
    "        yChar.append(indexToChar[index])\n",
    "\n",
    "    return ''.join(yChar)"
   ]
  },
  {
   "cell_type": "code",
   "execution_count": 24,
   "metadata": {},
   "outputs": [],
   "source": [
    "class ResultChecker(Callback):\n",
    "    def __init__(self, model, genLength, nVocab, indexToChar):\n",
    "        self.model = model\n",
    "        self.genLength = genLength\n",
    "        self.nVocab = nVocab\n",
    "        self.indexToChar = indexToChar\n",
    "\n",
    "    def on_epoch_end(self, epoch, logs={}):\n",
    "        print(generateText(self.model, self.genLength, self.nVocab, self.indexToChar))"
   ]
  },
  {
   "cell_type": "code",
   "execution_count": 25,
   "metadata": {},
   "outputs": [
    {
     "name": "stdout",
     "output_type": "stream",
     "text": [
      "Downloading data from https://storage.googleapis.com/tensorflow/tf-keras-datasets/imdb_word_index.json\n",
      "1641221/1641221 [==============================] - 1s 1us/step\n"
     ]
    }
   ],
   "source": [
    "resultChecker = ResultChecker(model, 100, vocab_size, imdb.get_word_index())"
   ]
  }
 ],
 "metadata": {
  "kernelspec": {
   "display_name": "Python 3",
   "language": "python",
   "name": "python3"
  },
  "language_info": {
   "codemirror_mode": {
    "name": "ipython",
    "version": 3
   },
   "file_extension": ".py",
   "mimetype": "text/x-python",
   "name": "python",
   "nbconvert_exporter": "python",
   "pygments_lexer": "ipython3",
   "version": "3.10.6"
  },
  "orig_nbformat": 4
 },
 "nbformat": 4,
 "nbformat_minor": 2
}
