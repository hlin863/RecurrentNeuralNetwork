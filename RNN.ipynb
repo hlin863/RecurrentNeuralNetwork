{
 "cells": [
  {
   "cell_type": "code",
   "execution_count": 1,
   "metadata": {},
   "outputs": [],
   "source": [
    "import tensorflow as tf"
   ]
  },
  {
   "cell_type": "code",
   "execution_count": 2,
   "metadata": {},
   "outputs": [],
   "source": [
    "from keras.datasets import imdb"
   ]
  },
  {
   "cell_type": "code",
   "execution_count": 3,
   "metadata": {},
   "outputs": [],
   "source": [
    "from keras import layers, models, losses, optimizers"
   ]
  },
  {
   "cell_type": "code",
   "execution_count": 4,
   "metadata": {},
   "outputs": [],
   "source": [
    "from keras.utils import pad_sequences"
   ]
  },
  {
   "cell_type": "code",
   "execution_count": 5,
   "metadata": {},
   "outputs": [],
   "source": [
    "vocab_size = 5000\n",
    "(X_train, y_train), (X_test, y_test) = imdb.load_data(num_words=vocab_size)"
   ]
  },
  {
   "cell_type": "code",
   "execution_count": 6,
   "metadata": {},
   "outputs": [],
   "source": [
    "reviewLengths = [len(x) for x in X_train]"
   ]
  },
  {
   "cell_type": "code",
   "execution_count": 7,
   "metadata": {},
   "outputs": [],
   "source": [
    "import matplotlib.pyplot as plt"
   ]
  },
  {
   "cell_type": "code",
   "execution_count": 19,
   "metadata": {},
   "outputs": [
    {
     "data": {
      "image/png": "[encoded data removed]",
      "text/plain": [
       "<Figure size 432x288 with 1 Axes>"
      ]
     },
     "metadata": {
      "needs_background": "light"
     },
     "output_type": "display_data"
    }
   ],
   "source": [
    "plt.hist(reviewLengths, bins=10)\n",
    "plt.show()"
   ]
  },
  {
   "cell_type": "code",
   "execution_count": 20,
   "metadata": {},
   "outputs": [],
   "source": [
    "max_length = 500  # This value should be chosen based on your data. \n",
    "                  # It looks like you intended 500 since you used input_length=500 in your Embedding layer.\n",
    "\n",
    "X_train = pad_sequences(X_train, maxlen=max_length)\n",
    "X_test = pad_sequences(X_test, maxlen=max_length)"
   ]
  },
  {
   "cell_type": "markdown",
   "metadata": {},
   "source": [
    "Build a LSTM network"
   ]
  },
  {
   "cell_type": "code",
   "execution_count": 21,
   "metadata": {},
   "outputs": [],
   "source": [
    "tf.random.set_seed(42)"
   ]
  },
  {
   "cell_type": "code",
   "execution_count": 22,
   "metadata": {},
   "outputs": [],
   "source": [
    "model = models.Sequential()"
   ]
  },
  {
   "cell_type": "code",
   "execution_count": 23,
   "metadata": {},
   "outputs": [],
   "source": [
    "embeddingSize = 32"
   ]
  },
  {
   "cell_type": "code",
   "execution_count": 24,
   "metadata": {},
   "outputs": [],
   "source": [
    "model.add(layers.Embedding(vocab_size, embeddingSize, input_length=500))"
   ]
  },
  {
   "cell_type": "code",
   "execution_count": 25,
   "metadata": {},
   "outputs": [],
   "source": [
    "model.add(layers.LSTM(50))"
   ]
  },
  {
   "cell_type": "code",
   "execution_count": 26,
   "metadata": {},
   "outputs": [],
   "source": [
    "model.add(layers.Dense(1, activation='sigmoid'))"
   ]
  },
  {
   "cell_type": "code",
   "execution_count": 27,
   "metadata": {},
   "outputs": [
    {
     "name": "stderr",
     "output_type": "stream",
     "text": [
      "c:\\Python310\\lib\\site-packages\\keras\\optimizers\\optimizer_v2\\rmsprop.py:140: UserWarning: The `lr` argument is deprecated, use `learning_rate` instead.\n",
      "  super().__init__(name, **kwargs)\n"
     ]
    }
   ],
   "source": [
    "model.compile(loss=losses.binary_crossentropy, optimizer=optimizers.RMSprop(lr=0.001), metrics=['accuracy'])"
   ]
  },
  {
   "cell_type": "code",
   "execution_count": 28,
   "metadata": {},
   "outputs": [
    {
     "name": "stdout",
     "output_type": "stream",
     "text": [
      "Epoch 1/10\n",
      "196/196 [==============================] - 83s 415ms/step - loss: 0.4788 - accuracy: 0.7796 - val_loss: 0.3233 - val_accuracy: 0.8715\n",
      "Epoch 2/10\n",
      "196/196 [==============================] - 114s 581ms/step - loss: 0.3036 - accuracy: 0.8798 - val_loss: 0.3583 - val_accuracy: 0.8462\n",
      "Epoch 3/10\n",
      "196/196 [==============================] - 115s 590ms/step - loss: 0.2672 - accuracy: 0.8962 - val_loss: 0.6223 - val_accuracy: 0.7956\n",
      "Epoch 4/10\n",
      "196/196 [==============================] - 115s 588ms/step - loss: 0.2470 - accuracy: 0.9050 - val_loss: 0.2925 - val_accuracy: 0.8778\n",
      "Epoch 5/10\n",
      "196/196 [==============================] - 134s 685ms/step - loss: 0.2266 - accuracy: 0.9123 - val_loss: 0.3198 - val_accuracy: 0.8730\n",
      "Epoch 6/10\n",
      "196/196 [==============================] - 118s 602ms/step - loss: 0.2159 - accuracy: 0.9164 - val_loss: 0.2974 - val_accuracy: 0.8785\n",
      "Epoch 7/10\n",
      "196/196 [==============================] - 122s 624ms/step - loss: 0.2026 - accuracy: 0.9236 - val_loss: 0.4598 - val_accuracy: 0.8372\n",
      "Epoch 8/10\n",
      "196/196 [==============================] - 101s 513ms/step - loss: 0.1945 - accuracy: 0.9268 - val_loss: 0.3273 - val_accuracy: 0.8618\n",
      "Epoch 9/10\n",
      "196/196 [==============================] - 118s 604ms/step - loss: 0.1876 - accuracy: 0.9305 - val_loss: 0.4032 - val_accuracy: 0.8696\n",
      "Epoch 10/10\n",
      "196/196 [==============================] - 119s 607ms/step - loss: 0.1842 - accuracy: 0.9320 - val_loss: 0.4392 - val_accuracy: 0.8562\n"
     ]
    },
    {
     "data": {
      "text/plain": [
       "<keras.callbacks.History at 0x234defb6230>"
      ]
     },
     "execution_count": 28,
     "metadata": {},
     "output_type": "execute_result"
    }
   ],
   "source": [
    "model.fit(X_train, y_train, epochs=10, batch_size=128, validation_data=(X_test, y_test))"
   ]
  },
  {
   "cell_type": "code",
   "execution_count": null,
   "metadata": {},
   "outputs": [],
   "source": []
  }
 ],
 "metadata": {
  "kernelspec": {
   "display_name": "Python 3",
   "language": "python",
   "name": "python3"
  },
  "language_info": {
   "codemirror_mode": {
    "name": "ipython",
    "version": 3
   },
   "file_extension": ".py",
   "mimetype": "text/x-python",
   "name": "python",
   "nbconvert_exporter": "python",
   "pygments_lexer": "ipython3",
   "version": "3.10.6"
  },
  "orig_nbformat": 4
 },
 "nbformat": 4,
 "nbformat_minor": 2
}
